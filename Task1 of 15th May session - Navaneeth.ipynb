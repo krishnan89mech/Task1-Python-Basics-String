{
 "cells": [
  {
   "cell_type": "markdown",
   "id": "faa32227",
   "metadata": {},
   "source": [
    "# Task1 of 15th May Session - Submission By Navaneethakrishnan"
   ]
  },
  {
   "cell_type": "code",
   "execution_count": 1,
   "id": "9249c25a",
   "metadata": {},
   "outputs": [],
   "source": [
    "a=\"this is My First Python programming class and i am learNING python string and its function\""
   ]
  },
  {
   "cell_type": "markdown",
   "id": "3014a1cc",
   "metadata": {},
   "source": [
    "1"
   ]
  },
  {
   "cell_type": "code",
   "execution_count": 3,
   "id": "7eeeba37",
   "metadata": {},
   "outputs": [
    {
     "data": {
      "text/plain": [
       "'tssyityopgmncsa alrNph rgni ni'"
      ]
     },
     "execution_count": 3,
     "metadata": {},
     "output_type": "execute_result"
    }
   ],
   "source": [
    "a[0:300:3]"
   ]
  },
  {
   "cell_type": "markdown",
   "id": "6f4050c4",
   "metadata": {},
   "source": [
    "2"
   ]
  },
  {
   "cell_type": "code",
   "execution_count": 4,
   "id": "2a89e2c3",
   "metadata": {},
   "outputs": [
    {
     "data": {
      "text/plain": [
       "'noitcnuf sti dna gnirts nohtyp GNINrael ma i dna ssalc gnimmargorp nohtyP tsriF yM si siht'"
      ]
     },
     "execution_count": 4,
     "metadata": {},
     "output_type": "execute_result"
    }
   ],
   "source": [
    "a[::-1]"
   ]
  },
  {
   "cell_type": "markdown",
   "id": "8ffd8f2b",
   "metadata": {},
   "source": [
    "3"
   ]
  },
  {
   "cell_type": "code",
   "execution_count": 12,
   "id": "1ffc89d6",
   "metadata": {},
   "outputs": [],
   "source": [
    "a=a.upper()"
   ]
  },
  {
   "cell_type": "code",
   "execution_count": 13,
   "id": "3472f969",
   "metadata": {},
   "outputs": [
    {
     "data": {
      "text/plain": [
       "['THIS',\n",
       " 'IS',\n",
       " 'MY',\n",
       " 'FIRST',\n",
       " 'PYTHON',\n",
       " 'PROGRAMMING',\n",
       " 'CLASS',\n",
       " 'AND',\n",
       " 'I',\n",
       " 'AM',\n",
       " 'LEARNING',\n",
       " 'PYTHON',\n",
       " 'STRING',\n",
       " 'AND',\n",
       " 'ITS',\n",
       " 'FUNCTION']"
      ]
     },
     "execution_count": 13,
     "metadata": {},
     "output_type": "execute_result"
    }
   ],
   "source": [
    "a.split()"
   ]
  },
  {
   "cell_type": "markdown",
   "id": "9c47852c",
   "metadata": {},
   "source": [
    "4"
   ]
  },
  {
   "cell_type": "code",
   "execution_count": 14,
   "id": "7d5cb0d7",
   "metadata": {},
   "outputs": [
    {
     "data": {
      "text/plain": [
       "'this is my first python programming class and i am learning python string and its function'"
      ]
     },
     "execution_count": 14,
     "metadata": {},
     "output_type": "execute_result"
    }
   ],
   "source": [
    "a.lower()"
   ]
  },
  {
   "cell_type": "markdown",
   "id": "8814623f",
   "metadata": {},
   "source": [
    "5"
   ]
  },
  {
   "cell_type": "code",
   "execution_count": 15,
   "id": "7b390d8d",
   "metadata": {},
   "outputs": [
    {
     "data": {
      "text/plain": [
       "'This is my first python programming class and i am learning python string and its function'"
      ]
     },
     "execution_count": 15,
     "metadata": {},
     "output_type": "execute_result"
    }
   ],
   "source": [
    "a.capitalize()"
   ]
  },
  {
   "cell_type": "markdown",
   "id": "6f2d461b",
   "metadata": {},
   "source": [
    "6"
   ]
  },
  {
   "cell_type": "code",
   "execution_count": 16,
   "id": "85fe89ca",
   "metadata": {},
   "outputs": [],
   "source": [
    "b=\"12345abcd\""
   ]
  },
  {
   "cell_type": "code",
   "execution_count": 17,
   "id": "627bb292",
   "metadata": {},
   "outputs": [
    {
     "data": {
      "text/plain": [
       "True"
      ]
     },
     "execution_count": 17,
     "metadata": {},
     "output_type": "execute_result"
    }
   ],
   "source": [
    "b.isalnum()"
   ]
  },
  {
   "cell_type": "code",
   "execution_count": 19,
   "id": "f1cf5b61",
   "metadata": {},
   "outputs": [
    {
     "data": {
      "text/plain": [
       "False"
      ]
     },
     "execution_count": 19,
     "metadata": {},
     "output_type": "execute_result"
    }
   ],
   "source": [
    "b.isalpha()"
   ]
  },
  {
   "cell_type": "code",
   "execution_count": 20,
   "id": "62fb088d",
   "metadata": {},
   "outputs": [],
   "source": [
    "c=\"abcd\""
   ]
  },
  {
   "cell_type": "code",
   "execution_count": 21,
   "id": "f23e33ff",
   "metadata": {},
   "outputs": [
    {
     "data": {
      "text/plain": [
       "True"
      ]
     },
     "execution_count": 21,
     "metadata": {},
     "output_type": "execute_result"
    }
   ],
   "source": [
    "c.isalpha()"
   ]
  },
  {
   "cell_type": "markdown",
   "id": "68ec2e9d",
   "metadata": {},
   "source": [
    "7"
   ]
  },
  {
   "cell_type": "code",
   "execution_count": 22,
   "id": "c8de51a1",
   "metadata": {},
   "outputs": [],
   "source": [
    "d=\"answer\\tto\\texample\\tof\\texpandtabs\""
   ]
  },
  {
   "cell_type": "code",
   "execution_count": 23,
   "id": "70e15fdd",
   "metadata": {},
   "outputs": [
    {
     "data": {
      "text/plain": [
       "'answer  to      example of      expandtabs'"
      ]
     },
     "execution_count": 23,
     "metadata": {},
     "output_type": "execute_result"
    }
   ],
   "source": [
    "d.expandtabs()"
   ]
  },
  {
   "cell_type": "markdown",
   "id": "9f6d8a34",
   "metadata": {},
   "source": [
    "8"
   ]
  },
  {
   "cell_type": "code",
   "execution_count": 24,
   "id": "30a6c6f6",
   "metadata": {},
   "outputs": [],
   "source": [
    "e=\"    learning and experience is very much different     \""
   ]
  },
  {
   "cell_type": "code",
   "execution_count": 25,
   "id": "38244887",
   "metadata": {},
   "outputs": [
    {
     "data": {
      "text/plain": [
       "'learning and experience is very much different'"
      ]
     },
     "execution_count": 25,
     "metadata": {},
     "output_type": "execute_result"
    }
   ],
   "source": [
    "e.strip()"
   ]
  },
  {
   "cell_type": "code",
   "execution_count": 26,
   "id": "451a1dcd",
   "metadata": {},
   "outputs": [
    {
     "data": {
      "text/plain": [
       "'learning and experience is very much different     '"
      ]
     },
     "execution_count": 26,
     "metadata": {},
     "output_type": "execute_result"
    }
   ],
   "source": [
    "e.lstrip()"
   ]
  },
  {
   "cell_type": "code",
   "execution_count": 27,
   "id": "4967c595",
   "metadata": {},
   "outputs": [
    {
     "data": {
      "text/plain": [
       "'    learning and experience is very much different'"
      ]
     },
     "execution_count": 27,
     "metadata": {},
     "output_type": "execute_result"
    }
   ],
   "source": [
    "e.rstrip()"
   ]
  },
  {
   "cell_type": "markdown",
   "id": "2d47efae",
   "metadata": {},
   "source": [
    "9"
   ]
  },
  {
   "cell_type": "code",
   "execution_count": 28,
   "id": "cc5b83a8",
   "metadata": {},
   "outputs": [],
   "source": [
    "a=\"s@chinTendulkar\""
   ]
  },
  {
   "cell_type": "code",
   "execution_count": 31,
   "id": "664a9548",
   "metadata": {},
   "outputs": [
    {
     "data": {
      "text/plain": [
       "'sachinTendulkar'"
      ]
     },
     "execution_count": 31,
     "metadata": {},
     "output_type": "execute_result"
    }
   ],
   "source": [
    "a.replace('@','a',-1)"
   ]
  },
  {
   "cell_type": "markdown",
   "id": "a95518ae",
   "metadata": {},
   "source": [
    "10"
   ]
  },
  {
   "cell_type": "code",
   "execution_count": 32,
   "id": "4389aab4",
   "metadata": {},
   "outputs": [],
   "source": [
    "a=\"Sachin\""
   ]
  },
  {
   "cell_type": "code",
   "execution_count": 34,
   "id": "b10ae0fe",
   "metadata": {},
   "outputs": [
    {
     "data": {
      "text/plain": [
       "'$$Sachin$$'"
      ]
     },
     "execution_count": 34,
     "metadata": {},
     "output_type": "execute_result"
    }
   ],
   "source": [
    "a.center(10,'$')"
   ]
  },
  {
   "cell_type": "markdown",
   "id": "0c5c4445",
   "metadata": {},
   "source": [
    "\n",
    "Center function is to make already defined string as center and its left and right areas are filled with new string with no of times as defined. \n",
    "\n",
    "Example in above case, total length of string required is defined as 10 and its center will be filled with predefined string which is \"Sachin\" in this case(6 no of characters). Balance(4 out of 10) string which defined newly will be filled left and right side of String(Sachin)."
   ]
  },
  {
   "cell_type": "markdown",
   "id": "1be09cf0",
   "metadata": {},
   "source": [
    "11"
   ]
  },
  {
   "cell_type": "markdown",
   "id": "53c30587",
   "metadata": {},
   "source": [
    "Compiler: It converts our data into machine data.\n",
    "\n",
    "\n",
    "Interpreter: It reads and executes the command/instruction we have given."
   ]
  },
  {
   "cell_type": "markdown",
   "id": "95bbe3bf",
   "metadata": {},
   "source": [
    "12"
   ]
  },
  {
   "cell_type": "markdown",
   "id": "a7c3494d",
   "metadata": {},
   "source": [
    "Python is a programming language which interprets and executes the command given by us which is compiled to machine language by a complier."
   ]
  },
  {
   "cell_type": "markdown",
   "id": "4139b3e8",
   "metadata": {},
   "source": [
    "13"
   ]
  },
  {
   "cell_type": "markdown",
   "id": "effe016a",
   "metadata": {},
   "source": [
    "1. Python is a programming language.\n",
    "2. It is more easier than anyother language like C,C++,Java,scala.\n",
    "3. It is used in various applications in Data industry.\n"
   ]
  }
 ],
 "metadata": {
  "kernelspec": {
   "display_name": "Python 3 (ipykernel)",
   "language": "python",
   "name": "python3"
  },
  "language_info": {
   "codemirror_mode": {
    "name": "ipython",
    "version": 3
   },
   "file_extension": ".py",
   "mimetype": "text/x-python",
   "name": "python",
   "nbconvert_exporter": "python",
   "pygments_lexer": "ipython3",
   "version": "3.9.12"
  }
 },
 "nbformat": 4,
 "nbformat_minor": 5
}
